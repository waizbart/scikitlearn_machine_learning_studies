{
 "cells": [
  {
   "attachments": {},
   "cell_type": "markdown",
   "metadata": {},
   "source": []
  },
  {
   "attachments": {},
   "cell_type": "markdown",
   "metadata": {},
   "source": [
    "Quanto maior o número de falsos positivos, aumentando o denominador, menor a precisão:\n",
    "$$\n",
    "    Precisão = {VerdadeirosPositivos \\over VerdadeiroPositivos + FalsosPositivos}\n",
    "$$\n",
    "\n",
    "Já na revocação, queromos diminuir os falsos negativos, em uma avaliação de uma doença em um paciente, por exemplo:  \n",
    "$$\n",
    "    Revocação = {VerdadeirosPositivos \\over VerdadeiroPositivos + FalsosNegativos}\n",
    "$$\n",
    "\n",
    "Uma média harmonica entre as duas é a pontuação F1:\n",
    "$$\n",
    "    Pontuação F1 = {2 \\over {1 \\over Precisão} + {1 \\over Revocação}}\n",
    "$$"
   ]
  },
  {
   "attachments": {},
   "cell_type": "markdown",
   "metadata": {},
   "source": [
    "Exemplo no fim do arquivo 2_svm_irisdatabase.ipynb"
   ]
  }
 ],
 "metadata": {
  "kernelspec": {
   "display_name": "Python 3",
   "language": "python",
   "name": "python3"
  },
  "language_info": {
   "codemirror_mode": {
    "name": "ipython",
    "version": 3
   },
   "file_extension": ".py",
   "mimetype": "text/x-python",
   "name": "python",
   "nbconvert_exporter": "python",
   "pygments_lexer": "ipython3",
   "version": "3.10.10"
  },
  "orig_nbformat": 4,
  "vscode": {
   "interpreter": {
    "hash": "d6f154a560802d64277e424ab716cbb72e450074a8138f9ecd5efb59b2418ec4"
   }
  }
 },
 "nbformat": 4,
 "nbformat_minor": 2
}
